{
 "cells": [
  {
   "cell_type": "code",
   "execution_count": 17,
   "metadata": {
    "collapsed": true,
    "deletable": true,
    "editable": true
   },
   "outputs": [],
   "source": [
    "%matplotlib inline\n",
    "\n",
    "import os\n",
    "import pandas as pd\n",
    "import matplotlib as mpl\n",
    "import matplotlib.pyplot as plt\n",
    "\n",
    "from glob import glob\n",
    "from __future__ import unicode_literals\n",
    "from IPython.core.display import display, HTML\n",
    "\n",
    "pd.set_option('expand_frame_repr', False)\n",
    "pd.set_option('display.max_rows', 50)"
   ]
  },
  {
   "cell_type": "code",
   "execution_count": 18,
   "metadata": {
    "collapsed": false,
    "deletable": true,
    "editable": true
   },
   "outputs": [
    {
     "data": {
      "text/html": [
       "<style>.container { width:100% !important; }</style>"
      ],
      "text/plain": [
       "<IPython.core.display.HTML object>"
      ]
     },
     "metadata": {},
     "output_type": "display_data"
    }
   ],
   "source": [
    "# Global configurations\n",
    "# ---------------------\n",
    "\n",
    "# Expand the notebook to the width of the browser\n",
    "display(HTML(\"<style>.container { width:100% !important; }</style>\"))\n",
    "\n",
    "# Matplotlib style\n",
    "plt.style.use('seaborn-ticks')\n",
    "\n",
    "# Use LaTeX and its body font for the diagrams' text.\n",
    "mpl.rcParams['text.usetex'] = True\n",
    "mpl.rcParams['text.latex.unicode'] = True\n",
    "mpl.rcParams['font.family'] = 'serif'\n",
    "mpl.rcParams['font.serif']  = ['Nimbus Roman Becker No9L']\n",
    "\n",
    "# Font sizes\n",
    "SIZE = 24\n",
    "plt.rc('font', size=SIZE)  # controls default text sizes\n",
    "plt.rc('axes', titlesize=SIZE)  # fontsize of the axes title\n",
    "plt.rc('axes', labelsize=SIZE)  # fontsize of the x any y labels\n",
    "plt.rc('xtick', labelsize=SIZE)  # fontsize of the tick labels\n",
    "plt.rc('ytick', labelsize=SIZE)  # fontsize of the tick labels\n",
    "plt.rc('legend', fontsize=SIZE-2)  # legend fontsize\n",
    "plt.rc('figure', titlesize=SIZE)  # # size of the figure title\n",
    "\n",
    "# Use thinner lines for axes to avoid distractions.\n",
    "mpl.rcParams['axes.linewidth']    = 0.75\n",
    "mpl.rcParams['xtick.major.width'] = 0.75\n",
    "mpl.rcParams['xtick.minor.width'] = 0.75\n",
    "mpl.rcParams['ytick.major.width'] = 0.75\n",
    "mpl.rcParams['ytick.minor.width'] = 0.75\n",
    "mpl.rcParams['lines.linewidth'] = 2\n",
    "\n",
    "\n",
    "# Do not use a box for the legend to avoid distractions.\n",
    "mpl.rcParams['legend.frameon'] = False\n",
    "\n",
    "# Restore part of matplotlib 1.5 behavior\n",
    "mpl.rcParams['patch.force_edgecolor'] = True\n",
    "mpl.rcParams['errorbar.capsize'] = 3\n",
    "\n",
    "# Helpers\n",
    "# -------\n",
    "\n",
    "# Use coordinated colors. These are the \"Tableau 20\" colors as \n",
    "# RGB. Each pair is strong/light. For a theory of color    \n",
    "tableau20 = [(31 , 119, 180), (174, 199, 232), # blue        [ 0,1 ]\n",
    "             (255, 127, 14 ), (255, 187, 120), # orange      [ 2,3 ]\n",
    "             (44 , 160, 44 ), (152, 223, 138), # green       [ 4,5 ]\n",
    "             (214, 39 , 40 ), (255, 152, 150), # red         [ 6,7 ]\n",
    "             (148, 103, 189), (197, 176, 213), # purple      [ 8,9 ]\n",
    "             (140, 86 , 75 ), (196, 156, 148), # brown       [10,11]\n",
    "             (227, 119, 194), (247, 182, 210), # pink        [12,13]\n",
    "             (188, 189, 34 ), (219, 219, 141), # yellow      [14,15]\n",
    "             (23 , 190, 207), (158, 218, 229), # cyan        [16,17]\n",
    "             (65 , 68 , 81 ), (96 , 99 , 106), # gray        [18,19]\n",
    "             (127, 127, 127), (143, 135, 130), # gray        [20,21] \n",
    "             (165, 172, 175), (199, 199, 199), # gray        [22,23]\n",
    "             (207, 207, 207)]                   # gray        [24]\n",
    "  \n",
    "# Scale the RGB values to the [0, 1] range, which is the format \n",
    "# matplotlib accepts.    \n",
    "for i in range(len(tableau20)):  \n",
    "    r, g, b = tableau20[i]  \n",
    "    tableau20[i] = (r / 255., g / 255., b / 255.)    \n",
    "\n",
    "# Return a single plot without right and top axes\n",
    "def fig_setup():\n",
    "    fig = plt.figure(figsize=(13,7))\n",
    "    ax = fig.add_subplot(111)  \n",
    "    ax.spines[\"top\"].set_visible(False)  \n",
    "    ax.spines[\"right\"].set_visible(False)  \n",
    "    ax.get_xaxis().tick_bottom()  \n",
    "    ax.get_yaxis().tick_left()\n",
    "    \n",
    "    return fig, ax"
   ]
  },
  {
   "cell_type": "code",
   "execution_count": 19,
   "metadata": {
    "collapsed": true,
    "deletable": true,
    "editable": true
   },
   "outputs": [],
   "source": [
    "def extract_time(sid):\n",
    "    \n",
    "    # Matteo's Magic\n",
    "\n",
    "    profile = pd.read_csv('./%s/%s.prof'%(sid,sid.split('/')[1].strip()), \n",
    "                          header=None,\n",
    "                          names=['tstamp','sid','uid','state','event','msg'],\n",
    "                          usecols=['tstamp','sid','uid','state'])\n",
    "\n",
    "    # Keep only unit profiles\n",
    "    profile = profile.dropna(subset=['uid'])\n",
    "    profile = profile[profile.uid.str.contains('unit')]\n",
    "\n",
    "    # Elminate redundant 'Done' state \n",
    "    profile.loc[profile.state == 'Done'] = profile.loc[(profile.sid.str.contains('OutputFileTransfer')) & \n",
    "                                                   (profile.state == 'Done')]\n",
    "    profile = profile.dropna()\n",
    "    if profile[profile.state == 'Done'].state.size != 869:\n",
    "        print 'ERROR'\n",
    "\n",
    "    # Purge useless info from session ID\n",
    "    profile['sid'] = profile['sid'].apply(lambda x: x.split(':')[1])\n",
    "    profile = profile.reset_index(drop=True)\n",
    "    \n",
    "    # Keep only execution-related states\n",
    "    txs = profile[(profile.state == 'Executing') | \n",
    "                  (profile.state == 'StagingOutput') | \n",
    "                  (profile.state == 'AgentStagingOutputPending')].copy()\n",
    "\n",
    "    # Profiles are a mess in 0.42 :( \n",
    "    # - Duplicates of state StagingOutput \n",
    "    # - spare presence of state AgentStagingOutputPending\n",
    "    for uid in txs.uid.tolist():\n",
    "        txs[txs.uid == uid]\n",
    "        if len(txs[(txs.uid == uid) & (txs.state == 'StagingOutput')]['state'].tolist()) >= 2:\n",
    "            txs = txs.drop(txs.index[(txs.uid == uid) &\n",
    "                                     (txs.state == 'StagingOutput') & \n",
    "                                     (txs.sid.str.contains('Thread'))])\n",
    "        if 'AgentStagingOutputPending' in txs[txs.uid == uid].state.tolist() and \\\n",
    "           'StagingOutput' in txs[txs.uid == uid].state.tolist():\n",
    "            txs = txs.drop(txs.index[(txs.uid == uid) & \n",
    "                                      (txs.state == 'AgentStagingOutputPending')])\n",
    "\n",
    "    # We are done with sid\n",
    "    txs = txs.drop('sid', axis=1)\n",
    "\n",
    "    # Calculate $T_x$\n",
    "    txs.tstamp = pd.to_numeric(txs.tstamp, errors='coerce')\n",
    "    txs = txs.pivot(index='uid', columns='state', values='tstamp')\n",
    "    txs['Tx'] = txs['StagingOutput']-txs['Executing']\n",
    "    \n",
    "    return txs"
   ]
  },
  {
   "cell_type": "code",
   "execution_count": 20,
   "metadata": {
    "collapsed": true,
    "deletable": true,
    "editable": true
   },
   "outputs": [],
   "source": [
    "def extract_namd_time(sid):\n",
    "    \n",
    "    stdouts = glob('%s-pilot.0000/unit.*/STDOUT'%sid)\n",
    "    df = pd.DataFrame(columns=['stage','NAMD Duration'])\n",
    "    df.index.name = 'uid'\n",
    "    \n",
    "    exec_prof = open('null-ws-1024cores-trial1/execution_profile_rp.session.two.jdakka.017403.0001.csv','r')\n",
    "    read_exec_lines = exec_prof.readlines()\n",
    "\n",
    "    for line in read_exec_lines[2:]:\n",
    "\n",
    "        if int(line.split(',')[1].strip().split('_')[1].strip()) in [1,2,3,4,5,6]:\n",
    "\n",
    "            uid = line.split(',')[0].strip()\n",
    "            stage = line.split(',')[1].strip()\n",
    "            out = '%s-pilot.0000/%s/STDOUT'%(sid, uid)\n",
    "        \n",
    "            f = open(out,'r')\n",
    "            last_line = f.readlines()[-1:][0]\n",
    "        \n",
    "            namd_dur = float(last_line.split('~')[1].strip().split(',')[0].strip()[:-1])\n",
    "        \n",
    "            df.loc[uid] = [stage, float(namd_dur/8)]\n",
    "        \n",
    "    return df.sort_index()"
   ]
  },
  {
   "cell_type": "code",
   "execution_count": 21,
   "metadata": {
    "collapsed": false,
    "deletable": true,
    "editable": true,
    "scrolled": false
   },
   "outputs": [
    {
     "name": "stdout",
     "output_type": "stream",
     "text": [
      "ERROR\n"
     ]
    },
    {
     "ename": "IOError",
     "evalue": "[Errno 2] No such file or directory: u'null-ws-1024cores-trial1/rp.session.two.jdakka.017403.0001-pilot.0000/unit.000000/STDOUT'",
     "output_type": "error",
     "traceback": [
      "\u001b[0;31m---------------------------------------------------------------------------\u001b[0m",
      "\u001b[0;31mIOError\u001b[0m                                   Traceback (most recent call last)",
      "\u001b[0;32m<ipython-input-21-1ed8339ff4af>\u001b[0m in \u001b[0;36m<module>\u001b[0;34m()\u001b[0m\n\u001b[1;32m      1\u001b[0m \u001b[0mrp_prof\u001b[0m \u001b[0;34m=\u001b[0m \u001b[0mextract_time\u001b[0m\u001b[0;34m(\u001b[0m\u001b[0;34m'null-ws-1024cores-trial1/rp.session.two.jdakka.017403.0001'\u001b[0m\u001b[0;34m)\u001b[0m\u001b[0;34m\u001b[0m\u001b[0m\n\u001b[0;32m----> 2\u001b[0;31m \u001b[0mnamd_prof\u001b[0m \u001b[0;34m=\u001b[0m \u001b[0mextract_namd_time\u001b[0m\u001b[0;34m(\u001b[0m\u001b[0;34m'null-ws-1024cores-trial1/rp.session.two.jdakka.017403.0001'\u001b[0m\u001b[0;34m)\u001b[0m\u001b[0;34m\u001b[0m\u001b[0m\n\u001b[0m\u001b[1;32m      3\u001b[0m \u001b[0;34m\u001b[0m\u001b[0m\n\u001b[1;32m      4\u001b[0m \u001b[0mcomb_prof\u001b[0m \u001b[0;34m=\u001b[0m \u001b[0mrp_prof\u001b[0m\u001b[0;34m.\u001b[0m\u001b[0mmerge\u001b[0m\u001b[0;34m(\u001b[0m\u001b[0mnamd_prof\u001b[0m\u001b[0;34m,\u001b[0m \u001b[0mright_index\u001b[0m\u001b[0;34m=\u001b[0m\u001b[0mTrue\u001b[0m\u001b[0;34m,\u001b[0m\u001b[0mleft_index\u001b[0m\u001b[0;34m=\u001b[0m\u001b[0mTrue\u001b[0m\u001b[0;34m)\u001b[0m\u001b[0;34m\u001b[0m\u001b[0m\n\u001b[1;32m      5\u001b[0m \u001b[0mcomb_prof\u001b[0m\u001b[0;34m.\u001b[0m\u001b[0mcolumns\u001b[0m \u001b[0;34m=\u001b[0m \u001b[0;34m[\u001b[0m\u001b[0;34m'Executing'\u001b[0m\u001b[0;34m,\u001b[0m \u001b[0;34m'StagingOutput'\u001b[0m\u001b[0;34m,\u001b[0m\u001b[0;34m'TxRP'\u001b[0m\u001b[0;34m,\u001b[0m \u001b[0;34m'Stage'\u001b[0m\u001b[0;34m,\u001b[0m \u001b[0;34m'TxNAMD'\u001b[0m\u001b[0;34m]\u001b[0m\u001b[0;34m\u001b[0m\u001b[0m\n",
      "\u001b[0;32m<ipython-input-20-5b9b86fd1e73>\u001b[0m in \u001b[0;36mextract_namd_time\u001b[0;34m(sid)\u001b[0m\n\u001b[1;32m     16\u001b[0m             \u001b[0mout\u001b[0m \u001b[0;34m=\u001b[0m \u001b[0;34m'%s-pilot.0000/%s/STDOUT'\u001b[0m\u001b[0;34m%\u001b[0m\u001b[0;34m(\u001b[0m\u001b[0msid\u001b[0m\u001b[0;34m,\u001b[0m \u001b[0muid\u001b[0m\u001b[0;34m)\u001b[0m\u001b[0;34m\u001b[0m\u001b[0m\n\u001b[1;32m     17\u001b[0m \u001b[0;34m\u001b[0m\u001b[0m\n\u001b[0;32m---> 18\u001b[0;31m             \u001b[0mf\u001b[0m \u001b[0;34m=\u001b[0m \u001b[0mopen\u001b[0m\u001b[0;34m(\u001b[0m\u001b[0mout\u001b[0m\u001b[0;34m,\u001b[0m\u001b[0;34m'r'\u001b[0m\u001b[0;34m)\u001b[0m\u001b[0;34m\u001b[0m\u001b[0m\n\u001b[0m\u001b[1;32m     19\u001b[0m             \u001b[0mlast_line\u001b[0m \u001b[0;34m=\u001b[0m \u001b[0mf\u001b[0m\u001b[0;34m.\u001b[0m\u001b[0mreadlines\u001b[0m\u001b[0;34m(\u001b[0m\u001b[0;34m)\u001b[0m\u001b[0;34m[\u001b[0m\u001b[0;34m-\u001b[0m\u001b[0;36m1\u001b[0m\u001b[0;34m:\u001b[0m\u001b[0;34m]\u001b[0m\u001b[0;34m[\u001b[0m\u001b[0;36m0\u001b[0m\u001b[0;34m]\u001b[0m\u001b[0;34m\u001b[0m\u001b[0m\n\u001b[1;32m     20\u001b[0m \u001b[0;34m\u001b[0m\u001b[0m\n",
      "\u001b[0;31mIOError\u001b[0m: [Errno 2] No such file or directory: u'null-ws-1024cores-trial1/rp.session.two.jdakka.017403.0001-pilot.0000/unit.000000/STDOUT'"
     ]
    }
   ],
   "source": [
    "rp_prof = extract_time('null-ws-1024cores-trial1/rp.session.two.jdakka.017403.0001')\n",
    "namd_prof = extract_namd_time('null-ws-1024cores-trial1/rp.session.two.jdakka.017403.0001')\n",
    "\n",
    "comb_prof = rp_prof.merge(namd_prof, right_index=True,left_index=True)\n",
    "comb_prof.columns = ['Executing', 'StagingOutput','TxRP', 'Stage', 'TxNAMD']\n",
    "\n",
    "comb_prof['StagingOutputNAMD'] = comb_prof['Executing']+comb_prof['TxNAMD']\n",
    "\n",
    "comb_prof = comb_prof[['Stage', 'Executing', 'StagingOutput','TxRP', 'TxNAMD']]\n",
    "display(comb_prof)"
   ]
  },
  {
   "cell_type": "code",
   "execution_count": null,
   "metadata": {
    "collapsed": false,
    "deletable": true,
    "editable": true
   },
   "outputs": [],
   "source": [
    "fig, ax = fig_setup()\n",
    "comb_prof.plot(kind='line', y=['TxRP', 'TxNAMD'], ax=ax)\n",
    "\n",
    "ax.set_xlabel('uids')\n",
    "ax.set_ylabel('Time (seconds)')\n",
    "ax.set_title('Tx for each unit obtained from RP profiles and NAMD logs')"
   ]
  },
  {
   "cell_type": "markdown",
   "metadata": {
    "collapsed": true,
    "deletable": true,
    "editable": true
   },
   "source": [
    "# Analysis\n",
    "The plot shows large discrepancies between $T_x$ as measured by RP and NAMD. These discrepancies appear to be determined by spurious but common failures to timestamp the end of the execution of the unit in RP 0.42. The following substantiate this statement:"
   ]
  },
  {
   "cell_type": "code",
   "execution_count": null,
   "metadata": {
    "collapsed": false,
    "deletable": true,
    "editable": true
   },
   "outputs": [],
   "source": [
    "sid = 'null-ws-1024cores-trial1/rp.session.two.jdakka.017403.0001'\n",
    "profile = pd.read_csv('./%s/%s.prof'%(sid,sid), \n",
    "                          header=None,\n",
    "                          names=['tstamp','sid','uid','state','event','msg'],\n",
    "                          usecols=['tstamp','uid','state'])\n",
    "\n",
    "# Keep only unit profiles\n",
    "profile = profile.dropna(subset=['uid'])\n",
    "profile = profile[profile.uid.str.contains('unit')]\n",
    "\n",
    "profile[profile.uid == 'unit.000049']"
   ]
  },
  {
   "cell_type": "markdown",
   "metadata": {
    "deletable": true,
    "editable": true
   },
   "source": [
    "Note how the time stampe for the states *StagingOutput* and *Done* are the same and that the state *AgentStagingInputPending* is missing. The hypothesis is that RP missed to timestamp the end of the unit execution and timestamped *StagingOutput* and *Done* when all the units had terminated execution of after that when tearing down the agent. This hypothesis can be investigated by looking at the duration of the pilot activity ($T_r$) and comparing it to the total time spent execution units ($TTX$) calculated by using NAMD $T_x$ durations."
   ]
  },
  {
   "cell_type": "code",
   "execution_count": null,
   "metadata": {
    "collapsed": true,
    "deletable": true,
    "editable": true
   },
   "outputs": [],
   "source": []
  }
 ],
 "metadata": {
  "hide_input": false,
  "kernelspec": {
   "display_name": "Python 2",
   "language": "python",
   "name": "python2"
  },
  "language_info": {
   "codemirror_mode": {
    "name": "ipython",
    "version": 2
   },
   "file_extension": ".py",
   "mimetype": "text/x-python",
   "name": "python",
   "nbconvert_exporter": "python",
   "pygments_lexer": "ipython2",
   "version": "2.7.12"
  },
  "latex_envs": {
   "LaTeX_envs_menu_present": true,
   "autocomplete": true,
   "bibliofile": "biblio.bib",
   "cite_by": "apalike",
   "current_citInitial": 1,
   "eqLabelWithNumbers": true,
   "eqNumInitial": 1,
   "hotkeys": {
    "equation": "Ctrl-E",
    "itemize": "Ctrl-I"
   },
   "labels_anchors": false,
   "latex_user_defs": false,
   "report_style_numbering": false,
   "user_envs_cfg": false
  }
 },
 "nbformat": 4,
 "nbformat_minor": 2
}
