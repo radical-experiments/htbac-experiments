{
 "cells": [
  {
   "cell_type": "code",
   "execution_count": 47,
   "metadata": {},
   "outputs": [
    {
     "name": "stdout",
     "output_type": "stream",
     "text": [
      "Using matplotlib backend: Qt5Agg\n"
     ]
    }
   ],
   "source": [
    "import pandas as pd\n",
    "from glob import glob\n",
    "import os\n",
    "\n",
    "from IPython.display import display\n",
    "from __future__ import unicode_literals\n",
    "\n",
    "pd.set_option('expand_frame_repr', False)\n",
    "pd.set_option('display.max_rows', 50)\n",
    "\n",
    "%matplotlib"
   ]
  },
  {
   "cell_type": "code",
   "execution_count": 31,
   "metadata": {
    "collapsed": true
   },
   "outputs": [],
   "source": [
    "def extract_time(sid):\n",
    "    \n",
    "    # Matteo's Magic\n",
    "\n",
    "    profile = pd.read_csv('./%s/%s.prof'%(sid,sid), \n",
    "                          header=None,\n",
    "                          names=['tstamp','sid','uid','state','event','msg'],\n",
    "                          usecols=['tstamp','sid','uid','state'])\n",
    "\n",
    "    # Keep only unit profiles\n",
    "    profile = profile.dropna(subset=['uid'])\n",
    "    profile = profile[profile.uid.str.contains('unit')]\n",
    "\n",
    "    # Elminate redundant 'Done' state \n",
    "    profile.loc[profile.state == 'Done'] = profile.loc[(profile.sid.str.contains('OutputFileTransfer')) & \n",
    "                                                   (profile.state == 'Done')]\n",
    "    profile = profile.dropna()\n",
    "    if profile[profile.state == 'Done'].state.size != 112:\n",
    "        print 'ERROR'\n",
    "\n",
    "    # Purge useless info from session ID\n",
    "    profile['sid'] = profile['sid'].apply(lambda x: x.split(':')[1])\n",
    "    profile = profile.reset_index(drop=True)\n",
    "    \n",
    "    # Keep only execution-related states\n",
    "    txs = profile[(profile.state == 'Executing') | \n",
    "                  (profile.state == 'StagingOutput') | \n",
    "                  (profile.state == 'AgentStagingOutputPending')].copy()\n",
    "\n",
    "    # Profiles are a mess in 0.42 :( \n",
    "    # - Duplicates of state StagingOutput \n",
    "    # - spare presence of state AgentStagingOutputPending\n",
    "    for uid in txs.uid.tolist():\n",
    "        txs[txs.uid == uid]\n",
    "        if len(txs[(txs.uid == uid) & (txs.state == 'StagingOutput')]['state'].tolist()) >= 2:\n",
    "            txs = txs.drop(txs.index[(txs.uid == uid) &\n",
    "                                     (txs.state == 'StagingOutput') & \n",
    "                                     (txs.sid.str.contains('Thread'))])\n",
    "        if 'AgentStagingOutputPending' in txs[txs.uid == uid].state.tolist() and \\\n",
    "           'StagingOutput' in txs[txs.uid == uid].state.tolist():\n",
    "            txs = txs.drop(txs.index[(txs.uid == uid) & \n",
    "                                      (txs.state == 'AgentStagingOutputPending')])\n",
    "\n",
    "    # We are done with sid\n",
    "    txs = txs.drop('sid', axis=1)\n",
    "\n",
    "    # Calculate $T_x$\n",
    "    txs.tstamp = pd.to_numeric(txs.tstamp, errors='coerce')\n",
    "    txs = txs.pivot(index='uid', columns='state', values='tstamp')\n",
    "    txs['Tx'] = txs['StagingOutput']-txs['Executing']\n",
    "    \n",
    "    return txs"
   ]
  },
  {
   "cell_type": "code",
   "execution_count": 40,
   "metadata": {
    "collapsed": true
   },
   "outputs": [],
   "source": [
    "def extract_namd_time(sid):\n",
    "    \n",
    "    stdouts = glob('%s-pilot.0000/unit.*/STDOUT'%sid)\n",
    "    df = pd.DataFrame(columns=['NAMD Duration'])\n",
    "    df.index.name = 'uid'\n",
    "    \n",
    "    exec_prof = open('./execution_profile_rp.session.two.jdakka.017398.0008.csv','r')\n",
    "    read_exec_lines = exec_prof.readlines()\n",
    "\n",
    "    for line in read_exec_lines[2:]:\n",
    "\n",
    "        if int(line.split(',')[1].strip().split('_')[1].strip()) in [4,5,6]:\n",
    "\n",
    "            uid = line.split(',')[0].strip()\n",
    "            out = '%s-pilot.0000/%s/STDOUT'%(sid, uid)\n",
    "        \n",
    "            f = open(out,'r')\n",
    "            last_line = f.readlines()[-1:][0]\n",
    "        \n",
    "            namd_dur = float(last_line.split('~')[1].strip().split(',')[0].strip()[:-1])\n",
    "        \n",
    "            df.loc[uid] = [float(namd_dur/8)]\n",
    "        \n",
    "    return df.sort_index()"
   ]
  },
  {
   "cell_type": "code",
   "execution_count": 52,
   "metadata": {
    "scrolled": false
   },
   "outputs": [],
   "source": [
    "rp_prof = extract_time('rp.session.two.jdakka.017398.0008')\n",
    "namd_prof = extract_namd_time('rp.session.two.jdakka.017398.0008')\n",
    "\n",
    "\n",
    "comb_prof = rp_prof.merge(namd_prof, right_index=True,left_index=True)\n",
    "comb_prof.columns = ['Executing', 'StagingOutput','Tx from RP', 'Tx from NAMD']\n",
    "#print comb_prof"
   ]
  },
  {
   "cell_type": "code",
   "execution_count": 54,
   "metadata": {},
   "outputs": [
    {
     "data": {
      "text/plain": [
       "<matplotlib.text.Text at 0x7f4d315a6150>"
      ]
     },
     "execution_count": 54,
     "metadata": {},
     "output_type": "execute_result"
    }
   ],
   "source": [
    "ax = comb_prof.plot(kind='line', y=['Tx from RP', 'Tx from NAMD'])\n",
    "\n",
    "ax.set_xlabel('uids')\n",
    "ax.set_ylabel('Time (seconds)')\n",
    "ax.set_title('Tx for each unit obtained from RP profiles and NAMD logs')"
   ]
  },
  {
   "cell_type": "code",
   "execution_count": null,
   "metadata": {
    "collapsed": true
   },
   "outputs": [],
   "source": []
  }
 ],
 "metadata": {
  "hide_input": false,
  "kernelspec": {
   "display_name": "Python 2",
   "language": "python",
   "name": "python2"
  },
  "language_info": {
   "codemirror_mode": {
    "name": "ipython",
    "version": 2
   },
   "file_extension": ".py",
   "mimetype": "text/x-python",
   "name": "python",
   "nbconvert_exporter": "python",
   "pygments_lexer": "ipython2",
   "version": "2.7.13"
  },
  "latex_envs": {
   "LaTeX_envs_menu_present": true,
   "autocomplete": true,
   "bibliofile": "biblio.bib",
   "cite_by": "apalike",
   "current_citInitial": 1,
   "eqLabelWithNumbers": true,
   "eqNumInitial": 1,
   "hotkeys": {
    "equation": "Ctrl-E",
    "itemize": "Ctrl-I"
   },
   "labels_anchors": false,
   "latex_user_defs": false,
   "report_style_numbering": false,
   "user_envs_cfg": false
  }
 },
 "nbformat": 4,
 "nbformat_minor": 2
}
